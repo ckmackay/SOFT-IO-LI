{
 "cells": [
  {
   "cell_type": "code",
   "execution_count": null,
   "metadata": {},
   "outputs": [],
   "source": [
    "##############################################################################################################################\n",
    "# 4 avril 2022\n",
    "# C. Mackay\n",
    "# Check AVAILABLE, COMMAND, pathnames and RELEASES are in the FLEXPART directory\n",
    "# Run the executable to submit the batch job"
   ]
  },
  {
   "cell_type": "code",
   "execution_count": 5,
   "metadata": {},
   "outputs": [],
   "source": [
    "import os\n",
    "import subprocess"
   ]
  },
  {
   "cell_type": "code",
   "execution_count": 6,
   "metadata": {},
   "outputs": [],
   "source": [
    "### Check paths\n",
    "flexpart_path = '/o3p/macc/flexpart10.4/flexpart_v10.4_3d7eebf/src/exercises/soft-io-li/'\n",
    "flight_dir = 'temp2'"
   ]
  },
  {
   "cell_type": "code",
   "execution_count": 7,
   "metadata": {},
   "outputs": [
    {
     "name": "stdout",
     "output_type": "stream",
     "text": [
      "Files for running FLEXPART exist\n",
      "FLEXPART process submitted to o3pwork queue on nuwa\n"
     ]
    }
   ],
   "source": [
    "# Change directory to FLEXPART directory for given flight and execute flexpart.sh\n",
    "# Change back to current working directory\n",
    "\n",
    "from os.path import exists\n",
    "import os.path\n",
    "\n",
    "cwd = os. getcwd()\n",
    "os.chdir(flexpart_path+flight_dir)\n",
    "\n",
    "if (os.path.exists(flexpart_path+flight_dir+'/options/RELEASES'))==True & (os.path.exists(flexpart_path+flight_dir+'/AVAILABLE'))==True & (os.path.exists(flexpart_path+flight_dir+'/pathnames'))==True & (os.path.exists(flexpart_path+flight_dir+'/options/COMMAND'))==True :  \n",
    "    print(\"Files for running FLEXPART exist\")\n",
    "\n",
    "    output = subprocess.Popen(['sbatch -p o3pwork '+flexpart_path+flight_dir+\"/flexpart.sh\"],shell=True)\n",
    "    print(\"FLEXPART process submitted to o3pwork queue on nuwa\")\n"
   ]
  }
 ],
 "metadata": {
  "kernelspec": {
   "display_name": "Python 3",
   "language": "python",
   "name": "python3"
  },
  "language_info": {
   "codemirror_mode": {
    "name": "ipython",
    "version": 3
   },
   "file_extension": ".py",
   "mimetype": "text/x-python",
   "name": "python",
   "nbconvert_exporter": "python",
   "pygments_lexer": "ipython3",
   "version": "3.8.6"
  }
 },
 "nbformat": 4,
 "nbformat_minor": 4
}
